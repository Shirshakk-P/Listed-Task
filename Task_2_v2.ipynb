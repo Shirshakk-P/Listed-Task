{
  "nbformat": 4,
  "nbformat_minor": 0,
  "metadata": {
    "colab": {
      "provenance": []
    },
    "kernelspec": {
      "name": "python3",
      "display_name": "Python 3"
    },
    "language_info": {
      "name": "python"
    }
  },
  "cells": [
    {
      "cell_type": "markdown",
      "source": [
        "###Task 2: Building a custom Web Scarpper for searching youtube channel links###\n",
        "\n",
        "####***Author:*** Shirshakk Purkayastha####\n"
      ],
      "metadata": {
        "id": "KgJYUS_CPicO"
      }
    },
    {
      "cell_type": "markdown",
      "source": [
        "#####Script 2: Gathering via 'googlesearch-python' API/Library method#####"
      ],
      "metadata": {
        "id": "SyvYzsIplOpw"
      }
    },
    {
      "cell_type": "markdown",
      "source": [
        "#### **Google Search API** allows only *100* requests per query to be displayed. To extend this quota, one needs to enable a subscription of $5 per hour that enables to get an extension of 10k queries per hour.####\n",
        "\n",
        "---"
      ],
      "metadata": {
        "id": "WywFIObXjoYS"
      }
    },
    {
      "cell_type": "markdown",
      "source": [
        "Installing the required Dependencies"
      ],
      "metadata": {
        "id": "i3EVf28JP6M3"
      }
    },
    {
      "cell_type": "code",
      "source": [
        "!pip install googlesearch-python"
      ],
      "metadata": {
        "id": "VuhSB0SKf3tA"
      },
      "execution_count": null,
      "outputs": []
    },
    {
      "cell_type": "markdown",
      "source": [
        "Importing Libraries"
      ],
      "metadata": {
        "id": "7Ls_sqGngKFd"
      }
    },
    {
      "cell_type": "code",
      "source": [
        "import csv\n",
        "import time\n",
        "from googlesearch import search"
      ],
      "metadata": {
        "id": "qDQk6YCSgHbP"
      },
      "execution_count": 13,
      "outputs": []
    },
    {
      "cell_type": "markdown",
      "source": [
        "Function to scrape for the google query"
      ],
      "metadata": {
        "id": "pGl9DrZYgMht"
      }
    },
    {
      "cell_type": "code",
      "source": [
        "def fetch_youtube_links(query, max_results):\n",
        "    youtube_links = []\n",
        "\n",
        "    # Perform the Google search and retrieve the URLs\n",
        "    search_results = search(query, num_results=max_results)\n",
        "\n",
        "    # Iterate through the search results and extract YouTube links\n",
        "    for url in search_results:\n",
        "        if 'youtube.com/watch' in url:\n",
        "            youtube_links.append(url)\n",
        "        time.sleep(5)\n",
        "\n",
        "    return youtube_links"
      ],
      "metadata": {
        "id": "Mq9-P3cbgD5Z"
      },
      "execution_count": 15,
      "outputs": []
    },
    {
      "cell_type": "markdown",
      "source": [
        "Function to store results into a '.csv' file"
      ],
      "metadata": {
        "id": "DvUg96GBla3T"
      }
    },
    {
      "cell_type": "code",
      "source": [
        "def save_to_csv(youtube_links, filename):\n",
        "    with open(filename, 'w', newline='', encoding='utf-8') as file:\n",
        "        writer = csv.writer(file)\n",
        "        writer.writerow(['YTChannel Links'])\n",
        "        writer.writerows([[link] for link in youtube_links])"
      ],
      "metadata": {
        "id": "I3UB6Wdmhs3h"
      },
      "execution_count": 17,
      "outputs": []
    },
    {
      "cell_type": "markdown",
      "source": [
        "Function to scrape youtube links from the input search query:"
      ],
      "metadata": {
        "id": "jc1C0oD3ljYh"
      }
    },
    {
      "cell_type": "code",
      "source": [
        "def scrape_youtube_links(query, max_results, filename):\n",
        "    youtube_links = fetch_youtube_links(query, max_results)\n",
        "    save_to_csv(youtube_links, filename)"
      ],
      "metadata": {
        "id": "EMqPwopYhvbg"
      },
      "execution_count": 18,
      "outputs": []
    },
    {
      "cell_type": "markdown",
      "source": [
        "Main Function"
      ],
      "metadata": {
        "id": "Y2MeAgI_lrOH"
      }
    },
    {
      "cell_type": "code",
      "source": [
        "if __name__ == \"__main__\":\n",
        "    query = \"site:youtube.com openinapp.co\"\n",
        "    max_results = 10000\n",
        "    filename = \"YT_Channel_Links.csv\"\n",
        "\n",
        "    scrape_youtube_links(query, max_results, filename)\n"
      ],
      "metadata": {
        "id": "tzO8vxN2hzkY"
      },
      "execution_count": null,
      "outputs": []
    }
  ]
}