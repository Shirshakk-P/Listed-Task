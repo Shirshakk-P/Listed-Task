{
  "nbformat": 4,
  "nbformat_minor": 0,
  "metadata": {
    "colab": {
      "provenance": []
    },
    "kernelspec": {
      "name": "python3",
      "display_name": "Python 3"
    },
    "language_info": {
      "name": "python"
    }
  },
  "cells": [
    {
      "cell_type": "markdown",
      "source": [
        "###Task 2: Building a custom Web Scarpper for searching youtube channel links###\n",
        "\n",
        "####***Author:*** Shirshakk Purkayastha####\n"
      ],
      "metadata": {
        "id": "KgJYUS_CPicO"
      }
    },
    {
      "cell_type": "markdown",
      "source": [
        "#####Script 1: Gathering via HTMLSession() method#####"
      ],
      "metadata": {
        "id": "_czOGRpSPzJc"
      }
    },
    {
      "cell_type": "markdown",
      "source": [
        "Installing the required Dependencies"
      ],
      "metadata": {
        "id": "i3EVf28JP6M3"
      }
    },
    {
      "cell_type": "code",
      "source": [
        "!pip install requests-html\n",
        "!pip install bs4"
      ],
      "metadata": {
        "id": "VuhSB0SKf3tA"
      },
      "execution_count": null,
      "outputs": []
    },
    {
      "cell_type": "markdown",
      "source": [
        "Importing Libraries"
      ],
      "metadata": {
        "id": "7Ls_sqGngKFd"
      }
    },
    {
      "cell_type": "code",
      "source": [
        "import requests\n",
        "import urllib\n",
        "import csv\n",
        "import pandas as pd\n",
        "from requests_html import HTML\n",
        "from requests_html import HTMLSession, AsyncHTMLSession\n",
        "from bs4 import BeautifulSoup as bs\n",
        "import nest_asyncio"
      ],
      "metadata": {
        "id": "qDQk6YCSgHbP"
      },
      "execution_count": null,
      "outputs": []
    },
    {
      "cell_type": "markdown",
      "source": [
        "Function to scrape for the google query"
      ],
      "metadata": {
        "id": "pGl9DrZYgMht"
      }
    },
    {
      "cell_type": "code",
      "source": [
        "def get_source(url):\n",
        "    try:\n",
        "        session = HTMLSession()\n",
        "        response = session.get(url)\n",
        "        return response\n",
        "\n",
        "    except requests.exceptions.RequestException as e:\n",
        "        print(e)\n",
        "\n",
        "def scrape_google(query, num_results=10):\n",
        "    query = urllib.parse.quote_plus(query)\n",
        "    response = get_source(f\"https://www.google.co.uk/search?q={query}&num={num_results}\")\n",
        "\n",
        "    links = list(response.html.absolute_links)\n",
        "    google_domains = ('https://www.google.',\n",
        "                      'https://google.',\n",
        "                      'https://webcache.googleusercontent.',\n",
        "                      'http://webcache.googleusercontent.',\n",
        "                      'https://policies.google.',\n",
        "                      'https://support.google.',\n",
        "                      'https://maps.google.',\n",
        "                      'https://youtube.com')\n",
        "\n",
        "    for url in links[:]:\n",
        "        if url.startswith(google_domains):\n",
        "            links.remove(url)\n",
        "\n",
        "    return links"
      ],
      "metadata": {
        "id": "Mq9-P3cbgD5Z"
      },
      "execution_count": null,
      "outputs": []
    },
    {
      "cell_type": "markdown",
      "source": [
        "Gather the links provided by the search query, using the above function"
      ],
      "metadata": {
        "id": "gKvoLKcxgSRR"
      }
    },
    {
      "cell_type": "code",
      "source": [
        "youtube_links = scrape_google(\"site:youtube.com openinapp.co\", num_results=10000)"
      ],
      "metadata": {
        "id": "6fGjAX69f5Jv"
      },
      "execution_count": null,
      "outputs": []
    },
    {
      "cell_type": "markdown",
      "source": [
        "Function to gather 'channel names' from the above gathered 'youtube_links'"
      ],
      "metadata": {
        "id": "H_ND02jIgaXn"
      }
    },
    {
      "cell_type": "code",
      "source": [
        "channel_names = []\n",
        "for i in youtube_links:\n",
        "  try:\n",
        "    r = requests.get(i)\n",
        "    page = r.text\n",
        "    soup = bs(page, 'html.parser')\n",
        "    vids = soup.find(\"span\", itemprop='author').next.next['content']\n",
        "    channel_names.append(vids)\n",
        "  except KeyError:\n",
        "    channel_names.append(\"N/A\")\n",
        "  except AttributeError:\n",
        "    channel_names.append(\"N/A\")"
      ],
      "metadata": {
        "id": "mLmVjgGKf5CW"
      },
      "execution_count": null,
      "outputs": []
    },
    {
      "cell_type": "markdown",
      "source": [
        "Function to write the procured Youtube Links into '.csv' file"
      ],
      "metadata": {
        "id": "ngr5uCohf9Mm"
      }
    },
    {
      "cell_type": "code",
      "source": [
        "csv_filename = 'youtube_links.csv'\n",
        "with open(csv_filename, 'w', newline='', encoding='utf-8') as file:\n",
        "    writer = csv.writer(file)\n",
        "    writer.writerow(['YouTube Links'])\n",
        "    writer.writerows([[name] for name in youtube_links])"
      ],
      "metadata": {
        "id": "GvP9s7O6f5AG"
      },
      "execution_count": null,
      "outputs": []
    },
    {
      "cell_type": "markdown",
      "source": [
        "Function to write the procured Youtube Channel Links into '.csv' file"
      ],
      "metadata": {
        "id": "ACsAYt2cf84n"
      }
    },
    {
      "cell_type": "code",
      "source": [
        "csv_filename = 'youtube_channels.csv'\n",
        "with open(csv_filename, 'w', newline='', encoding='utf-8') as file:\n",
        "    writer = csv.writer(file)\n",
        "    writer.writerow(['YouTube Channel Links'])\n",
        "    writer.writerows([['https://youtube.com/{}'.format(name)] for name in channel_names])"
      ],
      "metadata": {
        "id": "juIETvR6f49g"
      },
      "execution_count": null,
      "outputs": []
    }
  ]
}